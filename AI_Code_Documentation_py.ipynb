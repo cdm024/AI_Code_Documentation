{
  "cells": [
    {
      "cell_type": "code",
      "execution_count": null,
      "metadata": {
        "colab": {
          "base_uri": "https://localhost:8080/",
          "height": 107
        },
        "collapsed": true,
        "id": "vcmygF9YbUXS",
        "outputId": "33494054-5a5e-4f40-c114-61faae28f8c8"
      },
      "outputs": [
        {
          "data": {
            "application/vnd.google.colaboratory.intrinsic+json": {
              "type": "string"
            },
            "text/plain": [
              "'\\nThis script is designed to automatically annotate code files or folders with proper software engineering documentation using the Cohere AI model.\\n\\nIt provides an interactive command-line interface that allows the user to choose between annotating a single file or a folder of files.\\n\\nFor single file annotation, the user is prompted to enter the file name, and the code is then annotated and saved with appropriate documentation.\\n\\nFor folder annotation, the script processes all supported code files within the specified folder and saves the annotated versions accordingly.\\n\\nThe script utilizes the Cohere Client to interact with the AI model and perform the code annotation.\\n'"
            ]
          },
          "execution_count": 28,
          "metadata": {},
          "output_type": "execute_result"
        }
      ],
      "source": [
        "\"\"\"\n",
        "This script is designed to automatically annotate code files or folders with proper software engineering documentation using the Cohere AI model.\n",
        "\n",
        "It provides an interactive command-line interface that allows the user to choose between annotating a single file or a folder of files.\n",
        "\n",
        "For single file annotation, the user is prompted to enter the file name, and the code is then annotated and saved with appropriate documentation.\n",
        "\n",
        "For folder annotation, the script processes all supported code files within the specified folder and saves the annotated versions accordingly.\n",
        "\n",
        "The script utilizes the Cohere Client to interact with the AI model and perform the code annotation.\n",
        "\"\"\"\n"
      ]
    },
    {
      "cell_type": "code",
      "execution_count": null,
      "metadata": {
        "colab": {
          "base_uri": "https://localhost:8080/"
        },
        "collapsed": true,
        "id": "xF0smK-h6rDz",
        "outputId": "9d366ba4-f8d1-470e-dd3b-ef0ada43a2c6"
      },
      "outputs": [],
      "source": [
        "!pip install cohere"
      ]
    },
    {
      "cell_type": "code",
      "execution_count": null,
      "metadata": {
        "colab": {
          "base_uri": "https://localhost:8080/"
        },
        "collapsed": true,
        "id": "wTbjNw_G4OZi",
        "outputId": "5a079369-a3f9-44a4-8325-d0b42af2c850"
      },
      "outputs": [],
      "source": [
        "import os\n",
        "import cohere\n",
        "from google.colab import drive\n",
        "import re\n",
        "\n",
        "import os\n",
        "\n",
        "if os.path.ismount('/content/drive'):\n",
        "    pass\n",
        "else:\n",
        "    drive.mount('/content/drive')\n",
        "\n",
        "co = cohere.Client(\"USER API KEY NEEDED\")\n",
        "path = \"USE LOCAL PATH TO ACCESS FILES\"\n",
        "# example of path: '/content/drive/My Drive/code_demos'\n",
        "dest = \"USE CHOSEN DESTINATION FOR DOCUMENTED FILES\"\n",
        "#example of dest: '/content/drive/My Drive/code_demos/demo_results'\n",
        "\n",
        "def main():\n",
        "  \"\"\"\n",
        "    Main function to initiate the code annotation process.\n",
        "\n",
        "    Prompts the user for input and directs the flow of the script based on their choices.\n",
        "    \"\"\"\n",
        "  print(\"Welcome to the Code Annotation Tool!\")\n",
        "\n",
        "  choice = input(\"Do you want to annotate a single file or a folder of files? (Enter 'file' or 'folder'): \").strip().lower()\n",
        "\n",
        "\n",
        "  if choice == 'file':\n",
        "      print(\"Files Availible:\")\n",
        "      list_files_in_directory(path)\n",
        "      file_name = input(\"Enter the file name you wish to annotate: \")\n",
        "      file_path = f'/content/drive/My Drive/code_demos/{file_name}'\n",
        "      documented_file = annotate_code(file_path)\n",
        "      save_documentation(documented_file, file_name, dest)\n",
        "  elif choice == 'folder':\n",
        "      exclude_folder = 'demo_results'\n",
        "      print(\"Folders Availible:\\n\", list_folders(path, exclude_folder))\n",
        "      folder_name = input(\"Enter the folder name you wish to annotate: \")\n",
        "      folder_path = f'/content/drive/My Drive/code_demos/{folder_name}'\n",
        "      process_folder(folder_path)\n",
        "  else:\n",
        "      print(\"Invalid choice. Please enter 'file' or 'folder'.\")\n",
        "\n",
        "\n",
        "\n",
        "if __name__ == \"__main__\":\n",
        "    main()\n"
      ]
    },
    {
      "cell_type": "code",
      "execution_count": 10,
      "metadata": {
        "id": "TE3qcQ6tFY_e"
      },
      "outputs": [],
      "source": [
        "def annotate_code(file_path):\n",
        "  \"\"\"\n",
        "    Annotate the code in the specified file path.\n",
        "\n",
        "    Parameters:\n",
        "    file_path (str): Path to the code file.\n",
        "\n",
        "    Returns:\n",
        "    str: Annotated code with proper software engineering documentation.\n",
        "    \"\"\"\n",
        "  with open(file_path, 'r') as file:\n",
        "      code = file.read()\n",
        "\n",
        "  methods_and_classes = detect_methods_and_classes(code)\n",
        "\n",
        "  if methods_and_classes == 'single':\n",
        "      annotation = co.chat(\n",
        "          model=\"command-r-plus\",\n",
        "          message=f\"Annotate this code using proper software engineering documentation without additional explanation after (must compile after the code is returned):\\n\\n{code}\",\n",
        "          k=1\n",
        "      )\n",
        "      annotated_code = annotation.text\n",
        "  else:\n",
        "      specific_choice = input(\"Do you want to annotate a specific method/class or the entire file? (Enter 'specific' or 'entire'): \").strip().lower()\n",
        "\n",
        "      if specific_choice == 'specific':\n",
        "          method_name = input(\"Enter the name of the method/class you want to annotate: \").strip()\n",
        "          annotated_code = annotate_specific_method(file_path, method_name)\n",
        "      else:\n",
        "          annotation = co.chat(\n",
        "              model=\"command-r-plus\",\n",
        "              message=f\"Annotate this code using proper software engineering documentation without additional explanation after (must compile after the code is returned):\\n\\n{code}\",\n",
        "              k=1\n",
        "          )\n",
        "          annotated_code = annotation.text\n",
        "\n",
        "  cleaned_code = clean_annotated_code(annotated_code)\n",
        "  print('FILE BEING WRITTEN:\\n', cleaned_code)\n",
        "  return cleaned_code"
      ]
    },
    {
      "cell_type": "code",
      "execution_count": 9,
      "metadata": {
        "id": "CDMAiRuFrn7i"
      },
      "outputs": [],
      "source": [
        "def save_documentation(documented_code, original_file_name, dest):\n",
        "  \"\"\"\n",
        "    Save the annotated code to a new file with appropriate naming conventions.\n",
        "\n",
        "    Parameters:\n",
        "    documented_code (str): Annotated code to be saved.\n",
        "    original_file_name (str): Name of the original file.\n",
        "    dest (str): Destination folder path to save the annotated file.\n",
        "    \"\"\"\n",
        "\n",
        "  suffix_map = {\n",
        "      '.py': '_annotated.py',\n",
        "      '.c': '_annotated.c',\n",
        "      '.cpp': '_annotated.cpp',\n",
        "      '.java': '_annotated.java',\n",
        "      '.js': '_annotated.js',\n",
        "      '.m': '_annotated.m'\n",
        "  }\n",
        "\n",
        "  for ext, suffix in suffix_map.items():\n",
        "      if original_file_name.endswith(ext):\n",
        "          new_file_name = original_file_name.replace(ext, suffix)\n",
        "          break\n",
        "  else:\n",
        "      new_file_name = original_file_name\n",
        "\n",
        "  file_path = os.path.join(dest, new_file_name)\n",
        "\n",
        "  with open(file_path, 'w') as file:\n",
        "      file.write(documented_code)\n",
        "  print(f\"Documentation saved to {file_path}\")"
      ]
    },
    {
      "cell_type": "code",
      "execution_count": 14,
      "metadata": {
        "id": "upSpOLTmf4U1"
      },
      "outputs": [],
      "source": [
        "def process_folder(folder_path):\n",
        "  \"\"\"\n",
        "    Process a folder of code files and annotate each supported file.\n",
        "\n",
        "    Parameters:\n",
        "    folder_path (str): Path to the folder containing code files.\n",
        "    \"\"\"\n",
        "\n",
        "  folder_name = os.path.basename(folder_path)\n",
        "  result_folder = os.path.join(dest, f\"{folder_name}_annotated\")\n",
        "\n",
        "  if not os.path.exists(result_folder):\n",
        "      os.makedirs(result_folder)\n",
        "\n",
        "  extensions = ('.py', '.c', '.cpp', '.java', '.js', '.m')  # Add any other languages as needed\n",
        "  for root, _, files in os.walk(folder_path):\n",
        "      for file_name in files:\n",
        "          if file_name.endswith(extensions):\n",
        "              file_path = os.path.join(root, file_name)\n",
        "              documented_file = annotate_code(file_path)\n",
        "              save_documentation(documented_file, file_name, result_folder)"
      ]
    },
    {
      "cell_type": "code",
      "execution_count": 7,
      "metadata": {
        "id": "KepxjT4f6v1N"
      },
      "outputs": [],
      "source": [
        "def detect_methods_and_classes(code):\n",
        "  \"\"\"\n",
        "    Detect if the code contains multiple methods or classes and return their names.\n",
        "\n",
        "    Parameters:\n",
        "    code (str): Code content to analyze.\n",
        "\n",
        "    Returns:\n",
        "    list or str: List of method/class names if multiple are found, or 'single' if only a single method/class is detected.\n",
        "    \"\"\"\n",
        "\n",
        "  response = co.chat(\n",
        "      model=\"command-r-plus\",\n",
        "      message=f\"If multiple classes or methods are contained in the file list the class name and the methods in it, else only return the word 'single':\\n\\n{code}\",\n",
        "      k=1\n",
        "  )\n",
        "\n",
        "  extraction_result = response.text.strip().lower()\n",
        "  print(extraction_result)\n",
        "  if extraction_result != 'single':\n",
        "      return extraction_result.split('\\n')\n",
        "  else:\n",
        "      return 'single'\n"
      ]
    },
    {
      "cell_type": "code",
      "execution_count": 6,
      "metadata": {
        "id": "ukidUwJg-ycx"
      },
      "outputs": [],
      "source": [
        "def save_methods_summary(extraction_result):\n",
        "  \"\"\"\n",
        "    Save the extracted method/class names to a file.\n",
        "\n",
        "    Parameters:\n",
        "    extraction_result (list): List of method/class names.\n",
        "    \"\"\"\n",
        "  if extraction_result != [\"single\"]:\n",
        "      methods_summary = extraction_result\n",
        "  else:\n",
        "      methods_summary = []\n",
        "\n",
        "  return methods_summary\n",
        "  print(\"SAVE METHODS SUMMARY\")"
      ]
    },
    {
      "cell_type": "code",
      "execution_count": 5,
      "metadata": {
        "id": "m6RExo-FAltr"
      },
      "outputs": [],
      "source": [
        "def annotate_specific_method(file_path, method_name):\n",
        "  \"\"\"\n",
        "    Annotate a specific method or class within a code file.\n",
        "\n",
        "    Parameters:\n",
        "    file_path (str): Path to the code file.\n",
        "    method_name (str): Name of the method or class to annotate.\n",
        "\n",
        "    Returns:\n",
        "    str: Annotated code with the specified method/class annotated.\n",
        "    \"\"\"\n",
        "\n",
        "  with open(file_path, 'r') as file:\n",
        "      code = file.read()\n",
        "\n",
        "  method_code = extract_method_or_class(code, method_name)\n",
        "  if not method_code:\n",
        "      print(f\"Method/Class named {method_name} not found.\")\n",
        "      return ''\n",
        "\n",
        "  print('METHOD/CLASS TO BE ANNOTATED:\\n', method_code)\n",
        "  response = co.chat(\n",
        "      model=\"command-r-plus\",\n",
        "      message=f\"Annotate the following method/class with proper software engineering documentation, do not add additional explaination outside of the proper documentation. Ensure the code remains functional and can compile:\\n\\n{method_code}\",\n",
        "      k=1\n",
        "  )\n",
        "  annotated_code = response.text.strip()\n",
        "\n",
        "  cleaned_annotated_code = clean_annotated_code(annotated_code)\n",
        "\n",
        "  # Replace the original method with the annotated one in the full code\n",
        "  annotated_full_code = code.replace(method_code, cleaned_annotated_code)\n",
        "\n",
        "  return annotated_full_code"
      ]
    },
    {
      "cell_type": "code",
      "execution_count": 4,
      "metadata": {
        "id": "YQc3FKNS1hBy"
      },
      "outputs": [],
      "source": [
        "def extract_method_or_class(code, method_name):\n",
        "\n",
        "  \"\"\"\n",
        "    Extract the code for a specific method or class from the given code content.\n",
        "\n",
        "    Parameters:\n",
        "    code (str): Code content to search within.\n",
        "    method_name (str): Name of the method or class to extract.\n",
        "\n",
        "    Returns:\n",
        "    str: Code for the specified method or class, or None if not found.\n",
        "    \"\"\"\n",
        "\n",
        "  # Pattern to match a method or class by name\n",
        "  pattern = re.compile(\n",
        "      rf\"(def\\s+{re.escape(method_name)}\\s*\\(.*?\\)\\s*:\\s*|class\\s+{re.escape(method_name)}\\s*.*?:)((?:\\n(?:\\s+.*)+)?)\",\n",
        "      re.DOTALL\n",
        "  )\n",
        "  match = pattern.search(code)\n",
        "  if match:\n",
        "      return match.group(0)\n",
        "  else:\n",
        "      return None"
      ]
    },
    {
      "cell_type": "code",
      "execution_count": 3,
      "metadata": {
        "id": "kFJjndk7iMMx"
      },
      "outputs": [],
      "source": [
        "def clean_annotated_code(annotated_code):\n",
        "  \"\"\"\n",
        "    Clean the annotated code by removing unwanted comment delimiters and specific phrases.\n",
        "\n",
        "    Parameters:\n",
        "    annotated_code (str): Annotated code to be cleaned.\n",
        "\n",
        "    Returns:\n",
        "    str: Cleaned annotated code.\n",
        "    \"\"\"\n",
        "\n",
        "  # Define patterns to remove based on common language delimiters\n",
        "  patterns_to_remove = [\n",
        "      r\"'''\", r\"```python\", r\"```\",  # Python and Markdown\n",
        "      r\"/\\*\\*\", r\"/\\*\", r\"\\*/\",     # C, C++, Java, JavaScript (block comments)\n",
        "      r\"//\",                        # C, C++, Java, JavaScript (single line comments)\n",
        "      r\"#\",                         # Python, Shell scripts, etc.\n",
        "      r\"<!--\", r\"-->\",              # HTML, XML\n",
        "  ]\n",
        "\n",
        "  # Compile regex patterns\n",
        "  regex_patterns = [re.compile(pattern) for pattern in patterns_to_remove]\n",
        "\n",
        "  lines = annotated_code.split('\\n')\n",
        "  cleaned_lines = []\n",
        "\n",
        "  for line in lines:\n",
        "      # Check for unwanted comment delimiters and the specific phrase\n",
        "      if not any(pattern.match(line.strip()) for pattern in regex_patterns) and \\\n",
        "          \"Here is the annotated code with proper software engineering documentation:\" not in line:\n",
        "          cleaned_lines.append(line)\n",
        "\n",
        "  return '\\n'.join(cleaned_lines)"
      ]
    },
    {
      "cell_type": "code",
      "execution_count": 2,
      "metadata": {
        "id": "RY5Rxhv_3aDp"
      },
      "outputs": [],
      "source": [
        "def list_files_in_directory(directory):\n",
        "    try:\n",
        "        # List all files and directories in the given directory\n",
        "        files_and_dirs = os.listdir(directory)\n",
        "\n",
        "        # Filter out directories, only keep files\n",
        "        files = [f for f in files_and_dirs if os.path.isfile(os.path.join(directory, f))]\n",
        "\n",
        "        # Display the files\n",
        "        if files:\n",
        "            for file in files:\n",
        "                print(file)\n",
        "        else:\n",
        "            print(\"No files found in the directory.\")\n",
        "\n",
        "    except Exception as e:\n",
        "        print(f\"An error occurred: {e}\")\n"
      ]
    },
    {
      "cell_type": "code",
      "execution_count": 1,
      "metadata": {
        "id": "lD1Andzu6uku"
      },
      "outputs": [],
      "source": [
        "def list_folders(directory, exclude_folder):\n",
        "    # List all entries in the given directory\n",
        "    all_entries = os.listdir(directory)\n",
        "\n",
        "    # Filter out files and the folder to exclude\n",
        "    folders = [entry for entry in all_entries\n",
        "               if os.path.isdir(os.path.join(directory, entry)) and entry != exclude_folder]\n",
        "\n",
        "    return folders"
      ]
    }
  ],
  "metadata": {
    "colab": {
      "provenance": []
    },
    "kernelspec": {
      "display_name": "Python 3",
      "name": "python3"
    },
    "language_info": {
      "name": "python"
    }
  },
  "nbformat": 4,
  "nbformat_minor": 0
}
